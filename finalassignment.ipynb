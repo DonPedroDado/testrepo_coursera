{
 "cells": [
  {
   "cell_type": "markdown",
   "metadata": {},
   "source": [
    "# Final Assignment"
   ]
  },
  {
   "cell_type": "markdown",
   "metadata": {},
   "source": [
    "## In this assignment i'm gonna do these excercises:\n",
    "### Exercise 2 - Create a markdown cell with the title of the notebook. (1 pt)\n",
    "\n",
    "### Exercise 3 - Create a markdown cell for an introduction. (1 pt)\n",
    "\n",
    "### Exercise 4 - Create a markdown cell to list data science languages. (3 pts)\n",
    "\n",
    "### Exercise 5 - Create a markdown cell to list data science libraries. (3 pts)\n",
    "\n",
    "### Exercise 6 - Create a markdown cell with a table of Data Science tools. (3 pts)\n",
    "\n",
    "### Exercise 7 - Create a markdown cell introducing arithmetic expression examples. (1 pt)\n",
    "\n",
    "### Exercise 8 - Create a code cell to multiply and add numbers. (2 pts)\n",
    "\n",
    "### Exercise 9 - Create a code cell to convert minutes to hours. (2 pts)\n",
    "\n",
    "### Exercise 10 -Insert a markdown cell to list Objectives. (3 pts)\n",
    "\n",
    "### Exercise 11 - Create a markdown cell to indicate the Author’s name. (2 pts)\n",
    "\n",
    "### Exercise 12 - Share your notebook through GitHub (3 pts)\n",
    "\n",
    "### Exercise 13 - Take a screenshot of the first page of the notebook. (1 pt)"
   ]
  },
  {
   "cell_type": "markdown",
   "metadata": {},
   "source": [
    "### After reading this you will...\n",
    "\n",
    "+ know 10 data science languages\n",
    "+ know 10 data science libraries\n",
    "+ know 10 data science tools\n",
    "+ know how to do arithmetic\n",
    "+ know how to do classes in python\n",
    "+ know how to do functions in python"
   ]
  },
  {
   "cell_type": "markdown",
   "metadata": {},
   "source": [
    "#### Here are all 10 data science languages:\n",
    "\n",
    "+ Java\n",
    "+ C++\n",
    "+ Python\n",
    "+ Javascript\n",
    "+ php\n",
    "+ R\n",
    "+ Ruby\n",
    "+ GO\n",
    "+ Julia\n",
    "+ SQL"
   ]
  },
  {
   "cell_type": "markdown",
   "metadata": {},
   "source": [
    "#### Here are 10 the data science libraries:\n",
    "\n",
    "+ Numpy\n",
    "+ MatPlotLib\n",
    "+ Seaborn\n",
    "+ Plotly\n",
    "+ Scikit-learn\n",
    "+ Tensorflow\n",
    "+ Pytorch\n",
    "+ ggplot\n",
    "+ Caffe\n",
    "+ Scipy  "
   ]
  },
  {
   "cell_type": "markdown",
   "metadata": {},
   "source": [
    "### Here are 10 data science tools:\n",
    "\n",
    "+ Apache Spark\n",
    "+ Jupyter notebook\n",
    "+ JupyterLab\n",
    "+ VSCode\n",
    "+ MySQL\n",
    "+ SQLite\n",
    "+ Microsoft SQL Server\n",
    "+ IBM Watson Studio\n",
    "+ Github\n",
    "+ Neptune"
   ]
  },
  {
   "cell_type": "markdown",
   "metadata": {},
   "source": [
    "### Here are some arithmetic examples:\n",
    "\n",
    "+ $1 + 1 = 2$\n",
    "+ $3 - 2 = 1$\n",
    "+ $639465 * 63920327 = 40874811905055$"
   ]
  },
  {
   "cell_type": "code",
   "execution_count": null,
   "metadata": {},
   "outputs": [],
   "source": [
    "class add_or_multiply_numbers():\n",
    "    def __init__(self, number1, number2):\n",
    "        self.number1=number1\n",
    "        self.number2=number2\n",
    "\n",
    "    def multiply(self):\n",
    "        a=self.number1\n",
    "        b=self.number2\n",
    "        return(a*b)\n",
    "    \n",
    "    def add(self):\n",
    "        a=self.number1\n",
    "        b=self.number2\n",
    "        return(a+b)\n",
    "\n",
    "c1=add_or_multiply_numbers(2, 8)\n",
    "c1=c1.multiply()\n",
    "\n",
    "c2=add_or_multiply_numbers(2, 8)\n",
    "c2=c2.add()\n",
    "\n",
    "print(c1)\n",
    "print(c2)"
   ]
  },
  {
   "cell_type": "code",
   "execution_count": null,
   "metadata": {},
   "outputs": [],
   "source": [
    "def convert_min_to_h(min):\n",
    "    return(min/60)\n",
    "\n",
    "print(convert_min_to_h(1300))"
   ]
  },
  {
   "cell_type": "markdown",
   "metadata": {},
   "source": [
    "## Silvio Abruzzo"
   ]
  }
 ],
 "metadata": {
  "kernelspec": {
   "display_name": "Python 3",
   "language": "python",
   "name": "python3"
  },
  "language_info": {
   "codemirror_mode": {
    "name": "ipython",
    "version": 3
   },
   "file_extension": ".py",
   "mimetype": "text/x-python",
   "name": "python",
   "nbconvert_exporter": "python",
   "pygments_lexer": "ipython3",
   "version": "3.11.5"
  },
  "orig_nbformat": 4
 },
 "nbformat": 4,
 "nbformat_minor": 2
}
